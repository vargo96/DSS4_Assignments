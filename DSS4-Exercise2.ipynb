{
 "cells": [
  {
   "cell_type": "markdown",
   "metadata": {
    "deletable": false,
    "editable": false,
    "nbgrader": {
     "cell_type": "markdown",
     "checksum": "2dbd179753d009a3277817cf873b07ea",
     "grade": false,
     "grade_id": "cell-cb6d6ed35c9bab09",
     "locked": true,
     "schema_version": 3,
     "solution": false
    }
   },
   "source": [
    "# Spaghetti code\n",
    "(15 points)\n",
    "\n",
    "You are given a set of spaghetti in different lengths and the goal is to have as many spaghetti as possible with an exact length of 10cm. Note that \n",
    "* it is allowed to cut spaghettis at every position\n",
    "* it is _not_ possible to attach them together\n",
    "* there is an overall maximum number of cuts that are allowed to be done\n",
    "\n",
    "The goal is to find the maximum number of 10cm pieces that can be created based on the given set of spaghettis and the given maximum number of cuts.\n",
    "\n",
    "For example, if a spaghetti of size 33cm is cutted after the first 10cm, two new pieces are created with 10cm and 23cm length. Following this approach, the `33` can be transformed to `{ 10, 10, 10, 3 }`. Using 3 cuts, 3 spaghettis of length 10 can be created from a spaghetti of size 33 (assuming that the maximum number of cuts is tree or more). Please note that the maximum number of cuts is an overall maximum. So if the maximum was 3 cuts and the implemented algorithm decides to use all three cuts for the 33cm spaghetti, there are no more cuts left for another spaghetti.\n",
    "\n",
    "Input: `int[] spaghetti, int maximumCuts`\n",
    "\n",
    "Output: the maximum number of spaghetti of length 10 that you can get by atmost `maximumCut` cuts as `int`\n",
    "\n",
    "Example Input: `{13,14,20}, 2`\n",
    "\n",
    "Example Output: `3`\n",
    "\n",
    "#### Notes\n",
    "\n",
    "- You are free to use a different IDE to develop your solution. However, you have to copy the solution into this notebook to submit it.\n",
    "- Do not add additional external libraries.\n",
    "- Interface\n",
    "  - You can use _[TAB]_ for autocompletion and _[SHIFT]_+_[TAB]_ for code inspection.\n",
    "  - Use _Menu_ -> _View_ -> _Toggle Line Numbers_ for debugging.\n",
    "  - Check _Menu_ -> _Help_ -> _Keyboard Shortcuts_.\n",
    "- Known issues\n",
    "  - All global variables will be set to void after an import.\n",
    "  - Missing spaces arround `%` (Modulo) can cause unexpected errors so please make sure that you have added spaces around every `%` character.\n",
    "- Finish\n",
    "  - Save your solution by clicking on the _disk icon_.\n",
    "  - Make sure that\n",
    "    - all necessary imports are listed at the beginning of your cell.\n",
    "  - Run a final check of your solution by\n",
    "    - click on _restart the kernel, then re-run the whole notebook_ (the fast forward arrow in the tool bar)\n",
    "    - wait fo the kernel to restart and execute all cells (all executable cells should have numbers in front of them instead of a `[*]`) \n",
    "    - Check all executed cells for errors. If an exception is thrown, please check your code. Note that although the error might look cryptic, until now we never encounter that an exception was caused without a valid reason inside of the submitted code. A good way to check the code is to copy the solution into a new class in your favorite IDE and check\n",
    "      - errors reported by the IDE\n",
    "      - imports the IDE adds to your code which might be missing in your submission, here\n",
    "  - Finally, choose _Menu_ -> _File_ -> _Close and Halt_.\n",
    "  - Do not forget to _Submit_ your solution in the _Assignments_ view."
   ]
  },
  {
   "cell_type": "code",
   "execution_count": 1,
   "metadata": {
    "deletable": false,
    "nbgrader": {
     "cell_type": "code",
     "checksum": "23d71ebe91cb0bbfe808d0bfb47e5114",
     "grade": false,
     "grade_id": "cell-b65aa29f897ebc4d",
     "locked": false,
     "schema_version": 3,
     "solution": true
    }
   },
   "outputs": [],
   "source": [
    "public int cut(int[] spaghetti, int maximumCuts) {\n",
    "    // YOUR CODE HERE\n",
    "    int position,j=1,maxSpaghetti=0;\n",
    "    while(maximumCuts!=0 && (maximumCuts+j)*10>10) {\n",
    "        position = searchElement(spaghetti,(maximumCuts+j)*10);\n",
    "        if(position!=-1) {\n",
    "            maximumCuts -= (spaghetti[position]/10-1);\n",
    "            maxSpaghetti += spaghetti[position]/10;\n",
    "        }\n",
    "        j--;\n",
    "    }\n",
    "    \n",
    "    int k=0;\n",
    "    while(maximumCuts!=0 && k<spaghetti.length) {\n",
    "        if(spaghetti[k]>10 && spaghetti[k] % 10!=0) {\n",
    "            spaghetti[k] = spaghetti[k] - 10;\n",
    "            maxSpaghetti++;\n",
    "            maximumCuts--;\n",
    "            if(spaghetti[k]<10){\n",
    "                k++;\n",
    "            }\n",
    "        } else {\n",
    "            k++;\n",
    "        }\n",
    "    }\n",
    "       \n",
    "    return maxSpaghetti;\n",
    "}\n",
    "\n",
    "public int searchElement(int[] spaghetti,int element) {\n",
    "    for(int i=0;i<spaghetti.length;i++) {\n",
    "        if(spaghetti[i]==element) {\n",
    "            return i;\n",
    "        }\n",
    "    }\n",
    "    return -1;\n",
    "}"
   ]
  },
  {
   "cell_type": "markdown",
   "metadata": {
    "deletable": false,
    "editable": false,
    "nbgrader": {
     "cell_type": "markdown",
     "checksum": "c512abd27c24746075fb54cd2753ea47",
     "grade": false,
     "grade_id": "cell-1ee375c12d3d41ae",
     "locked": true,
     "schema_version": 3,
     "solution": false
    }
   },
   "source": [
    "## EVALUATION AREA\n",
    "\n",
    "In the following, we define some tests for evaluating your answer. The first test example can be used by you to test your implementation."
   ]
  },
  {
   "cell_type": "code",
   "execution_count": 2,
   "metadata": {
    "deletable": false,
    "editable": false,
    "nbgrader": {
     "cell_type": "code",
     "checksum": "60f001e70407057935db7834dfbb55a4",
     "grade": true,
     "grade_id": "cell-8bd565595479558a",
     "locked": true,
     "points": 3,
     "schema_version": 3,
     "solution": false
    }
   },
   "outputs": [
    {
     "name": "stdout",
     "output_type": "stream",
     "text": [
      "Test successful. Calculation took 0ms\n"
     ]
    }
   ],
   "source": [
    "%maven org.junit.jupiter:junit-jupiter-api:5.3.1\n",
    "import org.junit.jupiter.api.Assertions;\n",
    "import org.opentest4j.AssertionFailedError;\n",
    "\n",
    "public void checkResult(int[] spaghettis, int maxCuts, int expectedResult) {\n",
    "    try {\n",
    "        long time = System.currentTimeMillis();\n",
    "        int result = cut(spaghettis, maxCuts);\n",
    "        time = System.currentTimeMillis() - time;\n",
    "        Assertions.assertEquals(expectedResult, result);\n",
    "        System.out.println(\"Test successful. Calculation took \" + time + \"ms\");\n",
    "    } catch (AssertionFailedError e) {\n",
    "        throw e;\n",
    "    } catch (Throwable e) {\n",
    "        System.err.println(\"Your solution caused an unexpected error:\");\n",
    "        throw e;\n",
    "    }\n",
    "}\n",
    "// The first parameter is the array of spaghettis,\n",
    "// the second parameter is the maximum number of cuts and\n",
    "// and the first number is the expected result\n",
    "checkResult(new int[]{13,14,20}, 2, 3);"
   ]
  },
  {
   "cell_type": "code",
   "execution_count": 3,
   "metadata": {
    "deletable": false,
    "editable": false,
    "nbgrader": {
     "cell_type": "code",
     "checksum": "8dee0596509a5cddf5393d192e986198",
     "grade": true,
     "grade_id": "cell-41099f4980cf7022",
     "locked": true,
     "points": 3,
     "schema_version": 3,
     "solution": false
    }
   },
   "outputs": [],
   "source": [
    "// please ignore this cell :)"
   ]
  },
  {
   "cell_type": "code",
   "execution_count": 4,
   "metadata": {
    "deletable": false,
    "editable": false,
    "nbgrader": {
     "cell_type": "code",
     "checksum": "5025932fc013927a0e7755e03e837e5b",
     "grade": true,
     "grade_id": "cell-41099f4980cf7023",
     "locked": true,
     "points": 3,
     "schema_version": 3,
     "solution": false
    }
   },
   "outputs": [],
   "source": [
    "// please ignore this cell :)"
   ]
  },
  {
   "cell_type": "code",
   "execution_count": 5,
   "metadata": {
    "deletable": false,
    "editable": false,
    "nbgrader": {
     "cell_type": "code",
     "checksum": "f9e457c063a8d70c084f0aaacacafd8c",
     "grade": true,
     "grade_id": "cell-41099f4980cf7024",
     "locked": true,
     "points": 3,
     "schema_version": 3,
     "solution": false
    }
   },
   "outputs": [],
   "source": [
    "// please ignore this cell :)"
   ]
  },
  {
   "cell_type": "code",
   "execution_count": 6,
   "metadata": {
    "deletable": false,
    "editable": false,
    "nbgrader": {
     "cell_type": "code",
     "checksum": "b8fb140e7dd68e52d62155db2e76f6ad",
     "grade": true,
     "grade_id": "cell-41099f4980cf7025",
     "locked": true,
     "points": 3,
     "schema_version": 3,
     "solution": false
    }
   },
   "outputs": [],
   "source": [
    "// please ignore this cell :)"
   ]
  }
 ],
 "metadata": {
  "kernelspec": {
   "display_name": "Java",
   "language": "java",
   "name": "java"
  },
  "language_info": {
   "codemirror_mode": "java",
   "file_extension": ".java",
   "mimetype": "text/x-java-source",
   "name": "Java",
   "pygments_lexer": "java",
   "version": "9.0.4+11"
  }
 },
 "nbformat": 4,
 "nbformat_minor": 2
}

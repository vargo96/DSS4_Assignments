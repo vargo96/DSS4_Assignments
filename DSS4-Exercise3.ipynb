{
 "cells": [
  {
   "cell_type": "markdown",
   "metadata": {
    "deletable": false,
    "editable": false,
    "nbgrader": {
     "cell_type": "markdown",
     "checksum": "ff21ad071cdb051630f93a90e832ef31",
     "grade": false,
     "grade_id": "cell-cb6d6ed35c9bab09",
     "locked": true,
     "schema_version": 3,
     "solution": false
    }
   },
   "source": [
    "# Nth prime\n",
    "(15 points)\n",
    "\n",
    "You should write a program which searches for the $N$-th prime number. The list of primes starts with:\n",
    "```\n",
    "2\t3\t5\t7\t11\n",
    "```\n",
    "Let 2 be the first prime number. It can be seen that 11 is the 5th prime. This means that if your program is called with the input $N=5$ it should return `11`.\n",
    "\n",
    "The focus of this task is to implement a fast solution. The largest test will use $N=10000$. Please make sure that your program does not need more than a minute for this task to prevent a timeout of the evaluation process. **Note that a timeout yields 0 points!**. To get all points for this task, your program needs to have a very low runtime complexity and be able to solve the largest test in less than 200ms.\n",
    "\n",
    "#### Notes\n",
    "\n",
    "- You are free to use a different IDE to develop your solution. However, you have to copy the solution into this notebook to submit it.\n",
    "- Do not add additional external libraries.\n",
    "- Interface\n",
    "  - You can use _[TAB]_ for autocompletion and _[SHIFT]_+_[TAB]_ for code inspection.\n",
    "  - Use _Menu_ -> _View_ -> _Toggle Line Numbers_ for debugging.\n",
    "  - Check _Menu_ -> _Help_ -> _Keyboard Shortcuts_.\n",
    "- Known issues\n",
    "  - All global variables will be set to void after an import.\n",
    "  - Missing spaces arround `%` (Modulo) can cause unexpected errors so please make sure that you have added spaces around every `%` character.\n",
    "- Finish\n",
    "  - Save your solution by clicking on the _disk icon_.\n",
    "  - Make sure that\n",
    "    - all necessary imports are listed at the beginning of your cell.\n",
    "  - Run a final check of your solution by\n",
    "    - click on _restart the kernel, then re-run the whole notebook_ (the fast forward arrow in the tool bar)\n",
    "    - wait fo the kernel to restart and execute all cells (all executable cells should have numbers in front of them instead of a `[*]`) \n",
    "    - Check all executed cells for errors. If an exception is thrown, please check your code. Note that although the error might look cryptic, until now we never encounter that an exception was caused without a valid reason inside of the submitted code. A good way to check the code is to copy the solution into a new class in your favorite IDE and check\n",
    "      - errors reported by the IDE\n",
    "      - imports the IDE adds to your code which might be missing in your submission, here\n",
    "  - Finally, choose _Menu_ -> _File_ -> _Close and Halt_.\n",
    "  - Do not forget to _Submit_ your solution in the _Assignments_ view."
   ]
  },
  {
   "cell_type": "code",
   "execution_count": 1,
   "metadata": {
    "deletable": false,
    "nbgrader": {
     "cell_type": "code",
     "checksum": "a498e430cd58dac358e3555395cdac19",
     "grade": false,
     "grade_id": "cell-b65aa29f897ebc4d",
     "locked": false,
     "schema_version": 3,
     "solution": true
    }
   },
   "outputs": [],
   "source": [
    "public int findNthPrime(int N) {\n",
    "    int prime = 0,primeCount = 0,numberCount = 2;\n",
    "    // YOUR CODE HERE\n",
    "    while(primeCount<N) {\n",
    "        if(isPrime(numberCount)) {\n",
    "            primeCount++;\n",
    "            prime = numberCount;\n",
    "        }\n",
    "        numberCount++;\n",
    "    }\n",
    "    return prime;\n",
    "}\n",
    "\n",
    "//Function to check if the number is prime or not\n",
    "public boolean isPrime(int number) {\n",
    "    int squareRoot = (int)Math.sqrt(number) + 1;\n",
    "    \n",
    "    if(number==1) {\n",
    "        return false;\n",
    "    }\n",
    "    \n",
    "    for(int i=2;i<squareRoot;i++) {\n",
    "        if(number % i==0) {\n",
    "            return false;\n",
    "        }\n",
    "    }\n",
    "    return true;\n",
    "}"
   ]
  },
  {
   "cell_type": "markdown",
   "metadata": {
    "deletable": false,
    "editable": false,
    "nbgrader": {
     "cell_type": "markdown",
     "checksum": "63b9291b840c8d726e25325d082b30ae",
     "grade": false,
     "grade_id": "cell-a97cdf283baeec00",
     "locked": true,
     "schema_version": 3,
     "solution": false
    }
   },
   "source": [
    "## EVALUATION AREA\n",
    "\n",
    "In the following, we define some tests for evaluating your answer. The first test example can be used by you to test your implementation."
   ]
  },
  {
   "cell_type": "code",
   "execution_count": 2,
   "metadata": {
    "deletable": false,
    "editable": false,
    "nbgrader": {
     "cell_type": "code",
     "checksum": "0d4675cae4880d69779a4b35e19dd5c7",
     "grade": true,
     "grade_id": "cell-41099f4980cf7020",
     "locked": true,
     "points": 1,
     "schema_version": 3,
     "solution": false
    }
   },
   "outputs": [
    {
     "name": "stdout",
     "output_type": "stream",
     "text": [
      "Test successful. Calculation took 0ms\n",
      "Test successful. Calculation took 0ms\n"
     ]
    }
   ],
   "source": [
    "%maven org.junit.jupiter:junit-jupiter-api:5.3.1\n",
    "import org.junit.jupiter.api.Assertions;\n",
    "import org.opentest4j.AssertionFailedError;\n",
    "\n",
    "/**\n",
    " * Returns two numbers. The first is the Nth prime as calculated \n",
    " * by the students solution. The second is the time needed for \n",
    " * the calculation in ms.\n",
    " */\n",
    "public long[] runExperiment(int N) {\n",
    "    long[] results = new long[2];\n",
    "    try {\n",
    "        results[1] = System.currentTimeMillis();\n",
    "        results[0] = findNthPrime(N);\n",
    "        results[1] = System.currentTimeMillis() - results[1];\n",
    "        return results;\n",
    "    } catch (Throwable e) {\n",
    "        System.err.println(\"Your solution caused an unexpected error:\");\n",
    "        throw e;\n",
    "    }\n",
    "}\n",
    "\n",
    "public void checkResult(int expected, long calculated, long time) throws AssertionFailedError {\n",
    "    Assertions.assertEquals(expected, calculated);\n",
    "    System.out.println(\"Test successful. Calculation took \" + time + \"ms\");\n",
    "}\n",
    "\n",
    "boolean testSuccessful = false;\n",
    "\n",
    "long[] results = runExperiment(6);\n",
    "// we expected 13\n",
    "checkResult(13, results[0], results[1]);\n",
    "\n",
    "results = runExperiment(100);\n",
    "// we expected 541\n",
    "checkResult(541, results[0], results[1]);\n",
    "\n",
    "testSuccessful = true;"
   ]
  },
  {
   "cell_type": "code",
   "execution_count": 3,
   "metadata": {
    "deletable": false,
    "editable": false,
    "nbgrader": {
     "cell_type": "code",
     "checksum": "e6a363e65bd9c318e156989afd70e272",
     "grade": true,
     "grade_id": "cell-41099f4980cf7021",
     "locked": true,
     "points": 1,
     "schema_version": 3,
     "solution": false
    }
   },
   "outputs": [
    {
     "name": "stdout",
     "output_type": "stream",
     "text": [
      "Test successful.\n"
     ]
    }
   ],
   "source": [
    "/**\n",
    " * We are preferring correct and fast solutions. Therefore, you get more points if your solution is fast.\n",
    " */\n",
    "// make sure that the previous test didn't fail\n",
    "Assertions.assertTrue(testSuccessful, \"Previous test failed\");\n",
    "// check run time\n",
    "Assertions.assertTrue(results[1] < 2, \"Your solution took more time than expected.\");\n",
    "System.out.println(\"Test successful.\");"
   ]
  },
  {
   "cell_type": "code",
   "execution_count": null,
   "metadata": {
    "deletable": false,
    "editable": false,
    "nbgrader": {
     "cell_type": "code",
     "checksum": "b7083a993766436d844e32340ff79d9e",
     "grade": true,
     "grade_id": "cell-41099f4980cf7022",
     "locked": true,
     "points": 2,
     "schema_version": 3,
     "solution": false
    }
   },
   "outputs": [],
   "source": []
  },
  {
   "cell_type": "code",
   "execution_count": null,
   "metadata": {
    "deletable": false,
    "editable": false,
    "nbgrader": {
     "cell_type": "code",
     "checksum": "8b9d0c9e5e921ea135716378005a02a0",
     "grade": true,
     "grade_id": "cell-41099f4980cf7023",
     "locked": true,
     "points": 2,
     "schema_version": 3,
     "solution": false
    }
   },
   "outputs": [],
   "source": []
  },
  {
   "cell_type": "code",
   "execution_count": null,
   "metadata": {
    "deletable": false,
    "editable": false,
    "nbgrader": {
     "cell_type": "code",
     "checksum": "7bd668c26e07d99a424e3f4b8d7fe824",
     "grade": true,
     "grade_id": "cell-41099f4980cf7024",
     "locked": true,
     "points": 2,
     "schema_version": 3,
     "solution": false
    }
   },
   "outputs": [],
   "source": []
  },
  {
   "cell_type": "code",
   "execution_count": null,
   "metadata": {
    "deletable": false,
    "editable": false,
    "nbgrader": {
     "cell_type": "code",
     "checksum": "315f67e693c77bea1259da708ba0fa5c",
     "grade": true,
     "grade_id": "cell-41099f4980cf7025",
     "locked": true,
     "points": 2,
     "schema_version": 3,
     "solution": false
    }
   },
   "outputs": [],
   "source": []
  },
  {
   "cell_type": "code",
   "execution_count": null,
   "metadata": {
    "deletable": false,
    "editable": false,
    "nbgrader": {
     "cell_type": "code",
     "checksum": "580a6b88943601f5c7276eee1a8df1ee",
     "grade": true,
     "grade_id": "cell-41099f4980cf7026",
     "locked": true,
     "points": 2,
     "schema_version": 3,
     "solution": false
    }
   },
   "outputs": [],
   "source": []
  },
  {
   "cell_type": "code",
   "execution_count": null,
   "metadata": {
    "deletable": false,
    "editable": false,
    "nbgrader": {
     "cell_type": "code",
     "checksum": "f7e5464faaec23e5c97b298ef73c4291",
     "grade": true,
     "grade_id": "cell-41099f4980cf7027",
     "locked": true,
     "points": 3,
     "schema_version": 3,
     "solution": false
    }
   },
   "outputs": [],
   "source": []
  }
 ],
 "metadata": {
  "kernelspec": {
   "display_name": "Java",
   "language": "java",
   "name": "java"
  },
  "language_info": {
   "codemirror_mode": "java",
   "file_extension": ".java",
   "mimetype": "text/x-java-source",
   "name": "Java",
   "pygments_lexer": "java",
   "version": "9.0.4+11"
  }
 },
 "nbformat": 4,
 "nbformat_minor": 2
}

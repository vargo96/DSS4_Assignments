{
 "cells": [
  {
   "cell_type": "markdown",
   "metadata": {
    "deletable": false,
    "editable": false,
    "nbgrader": {
     "cell_type": "markdown",
     "checksum": "0a04fbf304485dda11b81e3291b7ccb0",
     "grade": false,
     "grade_id": "cell-cb6d6ed35c9bab07",
     "locked": true,
     "schema_version": 3,
     "solution": false
    }
   },
   "source": [
    "# Data Science Suite\n",
    "This is the assignment for the project group Data Science Suite. More information about the topics of this project group can be found at https://dice-research.org/teaching/DataScienceSuite4/.\n",
    "\n",
    "The assignment comprises 3 files with one Java programming task per file. The files have no particular order. Please note that only working solutions will be granted points and that the style of programming (especially regarding the time and memory complexity) can be taken into account.\n",
    "\n",
    "In case of severe issues or questions with one of the exercises you can send a mail to michael.roeder@uni-paderborn.de. Please note that only technical help can be granted.\n",
    "\n",
    "Firstly, In which programming languages you feel confident? Please order the languages from most confident to least confident."
   ]
  },
  {
   "cell_type": "code",
   "execution_count": 1,
   "metadata": {
    "deletable": false,
    "nbgrader": {
     "cell_type": "code",
     "checksum": "a09e75541efe15163bde519ac6b2af66",
     "grade": true,
     "grade_id": "cell-dd2b436fdf330ef1",
     "locked": false,
     "points": 0,
     "schema_version": 3,
     "solution": true
    }
   },
   "outputs": [],
   "source": [
    "/*\n",
    "Name: Varun Nandkumar Golani\n",
    "*/"
   ]
  },
  {
   "cell_type": "markdown",
   "metadata": {
    "deletable": false,
    "editable": false,
    "nbgrader": {
     "cell_type": "markdown",
     "checksum": "6f69267ac630323047186a07b923901c",
     "grade": false,
     "grade_id": "cell-cb6d6ed35c9bab09",
     "locked": true,
     "schema_version": 3,
     "solution": false
    }
   },
   "source": [
    "# Print my HTML \n",
    "(15 points)\n",
    "\n",
    "A program has created an HTML page as a tree of tags and their content. Every node is either a tag or contains some text. If it is a tag it might have one or more children. Nodes with text are not allowed to have any children. Every node has a reference to its parent (the root node has `null` as parent). You can see the implementation of the `Node` class below."
   ]
  },
  {
   "cell_type": "code",
   "execution_count": 2,
   "metadata": {
    "deletable": false,
    "editable": false,
    "nbgrader": {
     "cell_type": "code",
     "checksum": "9f13a8e9848c2ce36142d7884f48cc87",
     "grade": false,
     "grade_id": "cell-b65aa29f897ebc4e",
     "locked": true,
     "schema_version": 3,
     "solution": false
    }
   },
   "outputs": [],
   "source": [
    "/**\n",
    " * A simple class representing a markup language node in a tree.\n",
    " */\n",
    "public static class Node {\n",
    "    /**\n",
    "     * The content of the node, i.e., either the name of the tag or the text the node is representing.\n",
    "     */\n",
    "    public final String content;\n",
    "    /**\n",
    "     * {@code true} if the node represents a tag, {@code false} if it represents text.\n",
    "     */\n",
    "    public final boolean isTag;\n",
    "    /**\n",
    "     * The parent of this node.\n",
    "     */\n",
    "    public final Node parent;\n",
    "    /**\n",
    "     * The children of this node (might be null!)\n",
    "     */\n",
    "    private List<Node> children = null;\n",
    "    /**\n",
    "     * Constructor creating the node and adding itself to the list of children of the given parent.\n",
    "     * \n",
    "     * @param content the content of the node\n",
    "     * @param isTag flag indicating whether the node is a tag\n",
    "     * @param parent the parent of this node\n",
    "     */\n",
    "    public Node(String content, boolean isTag, Node parent) {\n",
    "        this.content = content;\n",
    "        this.isTag = isTag;\n",
    "        this.parent = parent;\n",
    "        if(parent != null) {\n",
    "            parent.addChild(this);\n",
    "        }\n",
    "    }\n",
    "\n",
    "    public List<Node> getChildren() {\n",
    "        return children;\n",
    "    }\n",
    "\n",
    "    public void addChild(Node child) {\n",
    "        if(children == null) {\n",
    "            children = new ArrayList<>();\n",
    "        }\n",
    "        children.add(child);\n",
    "    }\n",
    "}"
   ]
  },
  {
   "cell_type": "markdown",
   "metadata": {
    "deletable": false,
    "editable": false,
    "nbgrader": {
     "cell_type": "markdown",
     "checksum": "d0b0f4abc05bfce41d6a6d843a877737",
     "grade": false,
     "grade_id": "cell-cb6d6ed35c9bab0a",
     "locked": true,
     "schema_version": 3,
     "solution": false
    }
   },
   "source": [
    "Your task is to extend the method `printHTML` shown below. I will receive the root node of a tree and should generate the correct String representation of the HTML page.\n",
    "\n",
    "Imagine an easy HTML page where each line is a single `Node` instance and the indentation represents their hierarchy:\n",
    "```\n",
    "html\n",
    "+-head\n",
    "+-body\n",
    "  +-p\n",
    "    +-b\n",
    "    | +-\"Hello\"\n",
    "    +-\"World!\"\n",
    "```\n",
    "\n",
    "It can be seen that the page has an `html` element as root node. This node has `head` and `body` as children. While the `head` node comprises no children the `body` has a single `p` node as child. This `p` node contains a `b` element a the String `\"World!\"`. The `b` element has the String `\"Hello\"` as child.\n",
    "\n",
    "This small tree can be summarized as a small HTML page with an empty head and a body which contains a paragraph with the text `\"Hello World!\"` in which the first word is bold. The output of your system should be a valid HTML String:\n",
    "```xml\n",
    "<html><head/><body><p><b>Hello</b>World!</p></body></html>\n",
    "```\n",
    "\n",
    "#### Hints\n",
    "* For an easier comparison, whitespaces, tabs etc. will be removed.\n",
    "* You should follow the XML rules for tags, i.e.,\n",
    "  * `<tag>` is an opening tag\n",
    "  * `</tag>` is a closing tag\n",
    "  * `<tag/>` is an empty tag. Note that `<tag></tag>` will be accepted as well but **with a lower rating**\n",
    "\n",
    "#### Notes\n",
    "\n",
    "- You are free to use a different IDE to develop your solution. However, you have to copy the solution into this notebook to submit it.\n",
    "- Do not add additional external libraries.\n",
    "- Interface\n",
    "  - You can use _[TAB]_ for autocompletion and _[SHIFT]_+_[TAB]_ for code inspection.\n",
    "  - Use _Menu_ -> _View_ -> _Toggle Line Numbers_ for debugging.\n",
    "  - Check _Menu_ -> _Help_ -> _Keyboard Shortcuts_.\n",
    "- Known issues\n",
    "  - All global variables will be set to void after an import.\n",
    "  - Missing spaces arround `%` (Modulo) can cause unexpected errors so please make sure that you have added spaces around every `%` character.\n",
    "- Finish\n",
    "  - Save your solution by clicking on the _disk icon_.\n",
    "  - Make sure that\n",
    "    - all necessary imports are listed at the beginning of your cell.\n",
    "  - Run a final check of your solution by\n",
    "    - click on _restart the kernel, then re-run the whole notebook_ (the fast forward arrow in the tool bar)\n",
    "    - wait fo the kernel to restart and execute all cells (all executable cells should have numbers in front of them instead of a `[*]`) \n",
    "    - Check all executed cells for errors. If an exception is thrown, please check your code. Note that although the error might look cryptic, until now we never encounter that an exception was caused without a valid reason inside of the submitted code. A good way to check the code is to copy the solution into a new class in your favorite IDE and check\n",
    "      - errors reported by the IDE\n",
    "      - imports the IDE adds to your code which might be missing in your submission, here\n",
    "  - Finally, choose _Menu_ -> _File_ -> _Close and Halt_.\n",
    "  - Do not forget to _Submit_ your solution in the _Assignments_ view."
   ]
  },
  {
   "cell_type": "code",
   "execution_count": 3,
   "metadata": {
    "deletable": false,
    "nbgrader": {
     "cell_type": "code",
     "checksum": "8fa3f2699fcd5608c3fcc1a9a3b765fa",
     "grade": false,
     "grade_id": "cell-b65aa29f897ebc4f",
     "locked": false,
     "schema_version": 3,
     "solution": true
    }
   },
   "outputs": [],
   "source": [
    "String htmlString = \"\";\n",
    "\n",
    "//Reset the global variables used for each test case and calling helper function to print HTML\n",
    "public String printHTML(Node root) {\n",
    "    htmlString = \"\";\n",
    "    printHTMLHelper(root);\n",
    "    return htmlString;\n",
    "}\n",
    "\n",
    "public String printHTMLHelper(Node root) {\n",
    "    // YOUR CODE HERE\n",
    "    if(root == null){\n",
    "        return \"\";\n",
    "    } else {\n",
    "        if(!root.isTag){\n",
    "            htmlString = root.content;\n",
    "        } else {\n",
    "            htmlString += returnEmptyOrOpenCloseTags(root,\"O\");\n",
    "            if(root.getChildren()!=null) {\n",
    "                for (Node childNode : root.getChildren()) {\n",
    "                    if(childNode.isTag) {\n",
    "                        if(childNode.getChildren() == null){\n",
    "                            htmlString += \"<\"+childNode.content+\"/>\";\n",
    "                        } else {\n",
    "                            printHTMLHelper(childNode);\n",
    "                        }\n",
    "                    } else {\n",
    "                        htmlString += childNode.content;\n",
    "                    }\n",
    "                }\n",
    "            }\n",
    "            htmlString += returnEmptyOrOpenCloseTags(root,\"C\");\n",
    "        }\n",
    "        return htmlString;\n",
    "    }\n",
    "}\n",
    "\n",
    "public String returnEmptyOrOpenCloseTags(Node node,String flag) {\n",
    "    if(node.getChildren() == null && flag.equalsIgnoreCase(\"O\")) {\n",
    "        return \"<\"+node.content+\"/>\";\n",
    "    } else if(node.getChildren() != null) {\n",
    "        if(flag.equalsIgnoreCase(\"O\")) {\n",
    "            return \"<\"+node.content+\">\";\n",
    "        } else if(flag.equalsIgnoreCase(\"C\")) {\n",
    "            return \"</\"+node.content+\">\"; \n",
    "        }\n",
    "    }\n",
    "    return \"\";\n",
    "}"
   ]
  },
  {
   "cell_type": "markdown",
   "metadata": {
    "deletable": false,
    "editable": false,
    "nbgrader": {
     "cell_type": "markdown",
     "checksum": "e6a541a0452b708e514effc53e4f6130",
     "grade": false,
     "grade_id": "cell-5680dc683686b00e",
     "locked": true,
     "schema_version": 3,
     "solution": false
    }
   },
   "source": [
    "## EVALUATION AREA\n",
    "\n",
    "In the following, we define some tests for evaluating your answer. The first test example can be used by you to test your implementation."
   ]
  },
  {
   "cell_type": "code",
   "execution_count": 4,
   "metadata": {
    "deletable": false,
    "editable": false,
    "nbgrader": {
     "cell_type": "code",
     "checksum": "36787852e7a2395d27808e8457f571f4",
     "grade": true,
     "grade_id": "cell-41099f4980cf7022",
     "locked": true,
     "points": 1,
     "schema_version": 3,
     "solution": false
    }
   },
   "outputs": [
    {
     "name": "stdout",
     "output_type": "stream",
     "text": [
      "Test was successful\n",
      "Needed 538ms\n"
     ]
    }
   ],
   "source": [
    "%maven org.junit.jupiter:junit-jupiter-api:5.3.1\n",
    "import org.junit.jupiter.api.Assertions;\n",
    "import org.opentest4j.AssertionFailedError;\n",
    "\n",
    "// The example from the task description\n",
    "Node html1 = new Node(\"html\",true,null);\n",
    "new Node(\"head\",true,html1);\n",
    "Node body1 = new Node(\"body\",true,html1);\n",
    "Node p1 = new Node(\"p\",true,body1);\n",
    "Node i1 = new Node(\"i\",true,p1);\n",
    "new Node(\"Hello\",false,i1);\n",
    "new Node(\"World!\",false,p1);\n",
    "\n",
    "long time = System.currentTimeMillis();\n",
    "String result1 = printHTML(html1);\n",
    "time = System.currentTimeMillis() - time;\n",
    "result1 = result1.replaceAll(\"[\\\\s]+\",\"\");\n",
    "Assertions.assertTrue(\n",
    "\"<html><head/><body><p><i>Hello</i>World!</p></body></html>\".equals(result1) ||\n",
    "\"<html><head></head><body><p><i>Hello</i>World!</p></body></html>\".equals(result1),\n",
    "\"\\\"\" + result1 + \"\\\" was not expected.\");\n",
    "\n",
    "System.out.println(\"Test was successful\");\n",
    "System.out.println(\"Needed \" + time + \"ms\");"
   ]
  },
  {
   "cell_type": "code",
   "execution_count": null,
   "metadata": {
    "deletable": false,
    "editable": false,
    "nbgrader": {
     "cell_type": "code",
     "checksum": "2ee9cfc50d34aaf9a35b6e1097c74a2e",
     "grade": true,
     "grade_id": "cell-45a86fd3117e5a88",
     "locked": true,
     "points": 5,
     "schema_version": 3,
     "solution": false
    }
   },
   "outputs": [],
   "source": []
  },
  {
   "cell_type": "code",
   "execution_count": null,
   "metadata": {
    "deletable": false,
    "editable": false,
    "nbgrader": {
     "cell_type": "code",
     "checksum": "43f24c06d8a8dc8514c6adb922594ba3",
     "grade": true,
     "grade_id": "cell-45a86fd3117e5a8a",
     "locked": true,
     "points": 2,
     "schema_version": 3,
     "solution": false
    }
   },
   "outputs": [],
   "source": []
  },
  {
   "cell_type": "code",
   "execution_count": null,
   "metadata": {
    "deletable": false,
    "editable": false,
    "nbgrader": {
     "cell_type": "code",
     "checksum": "7591e40359c5165b45a5bafee31c0a40",
     "grade": true,
     "grade_id": "cell-45a86fd3117e5a8b",
     "locked": true,
     "points": 2,
     "schema_version": 3,
     "solution": false
    }
   },
   "outputs": [],
   "source": []
  },
  {
   "cell_type": "code",
   "execution_count": null,
   "metadata": {
    "deletable": false,
    "editable": false,
    "nbgrader": {
     "cell_type": "code",
     "checksum": "0d216d9341c287784bd44c812a09dd12",
     "grade": true,
     "grade_id": "cell-b9f54341e2036963",
     "locked": true,
     "points": 5,
     "schema_version": 3,
     "solution": false
    }
   },
   "outputs": [],
   "source": []
  }
 ],
 "metadata": {
  "kernelspec": {
   "display_name": "Java",
   "language": "java",
   "name": "java"
  },
  "language_info": {
   "codemirror_mode": "java",
   "file_extension": ".java",
   "mimetype": "text/x-java-source",
   "name": "Java",
   "pygments_lexer": "java",
   "version": "9.0.4+11"
  }
 },
 "nbformat": 4,
 "nbformat_minor": 2
}
